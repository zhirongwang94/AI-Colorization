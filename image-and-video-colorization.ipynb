{
  "nbformat": 4,
  "nbformat_minor": 0,
  "metadata": {
    "colab": {
      "name": "Copy of Colorization.ipynb",
      "provenance": [],
      "collapsed_sections": [],
      "toc_visible": true
    },
    "kernelspec": {
      "name": "python3",
      "display_name": "Python 3"
    }
  },
  "cells": [
    {
      "cell_type": "markdown",
      "metadata": {
        "id": "0GiRUE3UhtD9",
        "colab_type": "text"
      },
      "source": [
        "**This is the right codes for image colorization. (source and credit: https://www.instructables.com/id/Colorizing-Old-BW-Photos-and-Videos-With-the-Help-/)**"
      ]
    },
    {
      "cell_type": "markdown",
      "metadata": {
        "id": "JZh-nITmb3kj",
        "colab_type": "text"
      },
      "source": [
        "Downloat models for the colorization "
      ]
    },
    {
      "cell_type": "code",
      "metadata": {
        "id": "CdU8jmUFwWQ3",
        "colab_type": "code",
        "colab": {
          "base_uri": "https://localhost:8080/",
          "height": 972
        },
        "outputId": "d4faf07f-2de8-4364-e29d-d255e04b9928"
      },
      "source": [
        "! mkdir model \n",
        "! wget http://eecs.berkeley.edu/~rich.zhang/projects/2016_colorization/files/demo_v2/colorization_release_v2.caffemodel -O ./model/colorization_release_v2.caffemodel\n",
        "! wget http://eecs.berkeley.edu/~rich.zhang/projects/2016_colorization/files/demo_v2/colorization_release_v2_norebal.caffemodel -O ./model/colorization_release_v2_norebal.caffemodel\n",
        "! wget http://eecs.berkeley.edu/~rich.zhang/projects/2016_colorization/files/demo_v1/colorization_release_v1.caffemodel -O ./model/colorization_release_v1.caffemodel"
      ],
      "execution_count": null,
      "outputs": [
        {
          "output_type": "stream",
          "text": [
            "mkdir: cannot create directory ‘model’: File exists\n",
            "--2020-09-09 22:23:30--  http://eecs.berkeley.edu/~rich.zhang/projects/2016_colorization/files/demo_v2/colorization_release_v2.caffemodel\n",
            "Resolving eecs.berkeley.edu (eecs.berkeley.edu)... 23.185.0.1, 2620:12a:8001::1\n",
            "Connecting to eecs.berkeley.edu (eecs.berkeley.edu)|23.185.0.1|:80... connected.\n",
            "HTTP request sent, awaiting response... 301 Moved Permanently\n",
            "Location: https://eecs.berkeley.edu/~rich.zhang/projects/2016_colorization/files/demo_v2/colorization_release_v2.caffemodel [following]\n",
            "--2020-09-09 22:23:30--  https://eecs.berkeley.edu/~rich.zhang/projects/2016_colorization/files/demo_v2/colorization_release_v2.caffemodel\n",
            "Connecting to eecs.berkeley.edu (eecs.berkeley.edu)|23.185.0.1|:443... connected.\n",
            "HTTP request sent, awaiting response... 301 Moved Permanently\n",
            "Location: https://people.eecs.berkeley.edu/~rich.zhang/projects/2016_colorization/files/demo_v2/colorization_release_v2.caffemodel [following]\n",
            "--2020-09-09 22:23:30--  https://people.eecs.berkeley.edu/~rich.zhang/projects/2016_colorization/files/demo_v2/colorization_release_v2.caffemodel\n",
            "Resolving people.eecs.berkeley.edu (people.eecs.berkeley.edu)... 128.32.189.73\n",
            "Connecting to people.eecs.berkeley.edu (people.eecs.berkeley.edu)|128.32.189.73|:443... connected.\n",
            "HTTP request sent, awaiting response... 200 OK\n",
            "Length: 128946764 (123M)\n",
            "Saving to: ‘./model/colorization_release_v2.caffemodel’\n",
            "\n",
            "./model/colorizatio 100%[===================>] 122.97M  44.5MB/s    in 2.8s    \n",
            "\n",
            "2020-09-09 22:23:33 (44.5 MB/s) - ‘./model/colorization_release_v2.caffemodel’ saved [128946764/128946764]\n",
            "\n",
            "URL transformed to HTTPS due to an HSTS policy\n",
            "--2020-09-09 22:23:33--  https://eecs.berkeley.edu/~rich.zhang/projects/2016_colorization/files/demo_v2/colorization_release_v2_norebal.caffemodel\n",
            "Resolving eecs.berkeley.edu (eecs.berkeley.edu)... 23.185.0.1, 2620:12a:8001::1\n",
            "Connecting to eecs.berkeley.edu (eecs.berkeley.edu)|23.185.0.1|:443... connected.\n",
            "HTTP request sent, awaiting response... 301 Moved Permanently\n",
            "Location: https://people.eecs.berkeley.edu/~rich.zhang/projects/2016_colorization/files/demo_v2/colorization_release_v2_norebal.caffemodel [following]\n",
            "--2020-09-09 22:23:33--  https://people.eecs.berkeley.edu/~rich.zhang/projects/2016_colorization/files/demo_v2/colorization_release_v2_norebal.caffemodel\n",
            "Resolving people.eecs.berkeley.edu (people.eecs.berkeley.edu)... 128.32.189.73\n",
            "Connecting to people.eecs.berkeley.edu (people.eecs.berkeley.edu)|128.32.189.73|:443... connected.\n",
            "HTTP request sent, awaiting response... 200 OK\n",
            "Length: 128946454 (123M)\n",
            "Saving to: ‘./model/colorization_release_v2_norebal.caffemodel’\n",
            "\n",
            "./model/colorizatio 100%[===================>] 122.97M  46.6MB/s    in 2.6s    \n",
            "\n",
            "2020-09-09 22:23:36 (46.6 MB/s) - ‘./model/colorization_release_v2_norebal.caffemodel’ saved [128946454/128946454]\n",
            "\n",
            "URL transformed to HTTPS due to an HSTS policy\n",
            "--2020-09-09 22:23:36--  https://eecs.berkeley.edu/~rich.zhang/projects/2016_colorization/files/demo_v1/colorization_release_v1.caffemodel\n",
            "Resolving eecs.berkeley.edu (eecs.berkeley.edu)... 23.185.0.1, 2620:12a:8001::1\n",
            "Connecting to eecs.berkeley.edu (eecs.berkeley.edu)|23.185.0.1|:443... connected.\n",
            "HTTP request sent, awaiting response... 301 Moved Permanently\n",
            "Location: https://people.eecs.berkeley.edu/~rich.zhang/projects/2016_colorization/files/demo_v1/colorization_release_v1.caffemodel [following]\n",
            "--2020-09-09 22:23:36--  https://people.eecs.berkeley.edu/~rich.zhang/projects/2016_colorization/files/demo_v1/colorization_release_v1.caffemodel\n",
            "Resolving people.eecs.berkeley.edu (people.eecs.berkeley.edu)... 128.32.189.73\n",
            "Connecting to people.eecs.berkeley.edu (people.eecs.berkeley.edu)|128.32.189.73|:443... connected.\n",
            "HTTP request sent, awaiting response... 200 OK\n",
            "Length: 128948189 (123M)\n",
            "Saving to: ‘./model/colorization_release_v1.caffemodel’\n",
            "\n",
            "./model/colorizatio 100%[===================>] 122.97M  45.0MB/s    in 2.7s    \n",
            "\n",
            "2020-09-09 22:23:39 (45.0 MB/s) - ‘./model/colorization_release_v1.caffemodel’ saved [128948189/128948189]\n",
            "\n"
          ],
          "name": "stdout"
        }
      ]
    },
    {
      "cell_type": "markdown",
      "metadata": {
        "id": "oRB5oNEfdLLQ",
        "colab_type": "text"
      },
      "source": [
        "Clone the finished repository to compare the content "
      ]
    },
    {
      "cell_type": "code",
      "metadata": {
        "id": "c0C8VTju5kS7",
        "colab_type": "code",
        "colab": {}
      },
      "source": [
        "! rm -r AI-Colorization/"
      ],
      "execution_count": 152,
      "outputs": []
    },
    {
      "cell_type": "code",
      "metadata": {
        "id": "LJHQBMKABYes",
        "colab_type": "code",
        "colab": {
          "base_uri": "https://localhost:8080/",
          "height": 119
        },
        "outputId": "a52af855-821c-4b39-e790-1456f40ff556"
      },
      "source": [
        "! git clone https://github.com/zhirongwang94/AI-Colorization.git"
      ],
      "execution_count": 153,
      "outputs": [
        {
          "output_type": "stream",
          "text": [
            "Cloning into 'AI-Colorization'...\n",
            "remote: Enumerating objects: 79, done.\u001b[K\n",
            "remote: Counting objects: 100% (79/79), done.\u001b[K\n",
            "remote: Compressing objects: 100% (64/64), done.\u001b[K\n",
            "remote: Total 79 (delta 27), reused 59 (delta 12), pack-reused 0\u001b[K\n",
            "Unpacking objects: 100% (79/79), done.\n"
          ],
          "name": "stdout"
        }
      ]
    },
    {
      "cell_type": "code",
      "metadata": {
        "id": "5Shvxr1W54sC",
        "colab_type": "code",
        "colab": {}
      },
      "source": [
        "! rm -r ./input_videos/"
      ],
      "execution_count": 154,
      "outputs": []
    },
    {
      "cell_type": "code",
      "metadata": {
        "id": "aw2MvFrN5TcB",
        "colab_type": "code",
        "colab": {}
      },
      "source": [
        "! mv ./AI-Colorization/input_videos/ ./"
      ],
      "execution_count": 156,
      "outputs": []
    },
    {
      "cell_type": "markdown",
      "metadata": {
        "id": "uPrpSMbucRjO",
        "colab_type": "text"
      },
      "source": [
        "# Black and White Phote Colorization"
      ]
    },
    {
      "cell_type": "code",
      "metadata": {
        "id": "SSU73XJ6dcMe",
        "colab_type": "code",
        "colab": {
          "base_uri": "https://localhost:8080/",
          "height": 298
        },
        "outputId": "84a2cec0-723d-43f6-9069-5b4ae3f08a68"
      },
      "source": [
        "# Import important libraries\n",
        "import numpy as np\n",
        "import matplotlib.pyplot as plt\n",
        "import cv2\n",
        "\n",
        "#2 Define image to be colorized:\n",
        "IMAGE = \"mei1.png\"\n",
        "\n",
        "#3 Define Model Paths:\n",
        "prototxt = \"./model/colorization_deploy_v2.prototxt\"\n",
        "model = \"./model/colorization_release_v2.caffemodel\"\n",
        "points = \"./model/pts_in_hull.npy\"\n",
        "image =  \"./input_images/\"+IMAGE\n",
        "\n",
        "#4 Load serialized black and white colorizer model and cluster: \n",
        "# (you need to have pts_in_hull.npy and colorization_deploy_v2.prototxt files \n",
        "# in model dirctory to continue)\n",
        "net = cv2.dnn.readNetFromCaffe(prototxt, model)\n",
        "pts = np.load(points)\n",
        "\n",
        "#5 Add the cluster centers as 1x1 convolutions to the model:\n",
        "class8 = net.getLayerId(\"class8_ab\")\n",
        "conv8 = net.getLayerId(\"conv8_313_rh\")\n",
        "pts = pts.transpose().reshape(2, 313, 1, 1)\n",
        "net.getLayer(class8).blobs = [pts.astype(\"float32\")]\n",
        "net.getLayer(conv8).blobs = [np.full([1, 313], 2.606, dtype=\"float32\")]\n",
        "\n",
        "#6  Load the input image, scale it and convert it to Lab:\n",
        "#(if error occurs here, check if the IMAGE has the jpg extention )\n",
        "image = cv2.imread(image)\n",
        "image = cv2.cvtColor(image, cv2.COLOR_BGR2GRAY)\n",
        "image = cv2.cvtColor(image, cv2.COLOR_GRAY2RGB)\n",
        "\n",
        "plt.imshow(image)\n",
        "plt.axis('off');\n",
        "\n",
        "#7 Extracting \"L\":\n",
        "scaled = image.astype(\"float32\") / 255.0\n",
        "lab = cv2.cvtColor(scaled, cv2.COLOR_RGB2LAB)\n",
        "resized = cv2.resize(lab, (224, 224))\n",
        "L = cv2.split(resized)[0]\n",
        "L -= 50\n",
        "\n",
        "#8 Predicting \"a\" and \"b\":\n",
        "net.setInput(cv2.dnn.blobFromImage(L))\n",
        "ab = net.forward()[0, :, :, :].transpose((1, 2, 0))\n",
        "ab = cv2.resize(ab, (image.shape[1], image.shape[0]))\n",
        "\n",
        "#9. Creating a colorized Lab photo (L + a + b):\n",
        "L = cv2.split(lab)[0]\n",
        "colorized = np.concatenate((L[:, :, np.newaxis], ab), axis=2)\n",
        "\n",
        "plt.imshow(colorized)\n",
        "plt.axis('off');\n",
        "plt.title('colorized LAB image');\n",
        "\n",
        "#10. Converting to RGB:\n",
        "colorized = cv2.cvtColor(colorized, cv2.COLOR_LAB2RGB)\n",
        "colorized = np.clip(colorized, 0, 1)\n",
        "colorized = (255 * colorized).astype(\"uint8\")\n",
        "plt.imshow(colorized)\n",
        "plt.axis('off');\n",
        "\n",
        "#11. Saving the final RGB photo:\n",
        "cv2.imwrite(\"./colorized_images/Color_\"+IMAGE, cv2.cvtColor(colorized, cv2.COLOR_RGB2BGR))"
      ],
      "execution_count": null,
      "outputs": [
        {
          "output_type": "stream",
          "text": [
            "Clipping input data to the valid range for imshow with RGB data ([0..1] for floats or [0..255] for integers).\n"
          ],
          "name": "stderr"
        },
        {
          "output_type": "execute_result",
          "data": {
            "text/plain": [
              "True"
            ]
          },
          "metadata": {
            "tags": []
          },
          "execution_count": 85
        },
        {
          "output_type": "display_data",
          "data": {
            "image/png": "[encoded data removed]",
            "text/plain": [
              "<Figure size 432x288 with 1 Axes>"
            ]
          },
          "metadata": {
            "tags": [],
            "needs_background": "light"
          }
        }
      ]
    },
    {
      "cell_type": "markdown",
      "metadata": {
        "id": "SsZT-vsz-Jlj",
        "colab_type": "text"
      },
      "source": [
        "# Colorizing Videos"
      ]
    },
    {
      "cell_type": "code",
      "metadata": {
        "id": "WqqQ-WwZ_G9X",
        "colab_type": "code",
        "colab": {}
      },
      "source": [
        "# import the necessary packages\n",
        "from imutils.video import VideoStream\n",
        "import numpy as np\n",
        "import imutils\n",
        "import time\n",
        "import cv2\n",
        "import os\n",
        "from os.path import isfile, join\n",
        "from google.colab.patches import cv2_imshow\n",
        "import cv2 "
      ],
      "execution_count": 157,
      "outputs": []
    },
    {
      "cell_type": "markdown",
      "metadata": {
        "id": "Lj6bWXcf-Qhq",
        "colab_type": "text"
      },
      "source": [
        "\n",
        "\n",
        "> 1. Start defining the file that should be colorized (that should be at the input_video folder:\n",
        "\n"
      ]
    },
    {
      "cell_type": "code",
      "metadata": {
        "id": "MTvrwrSX-NSn",
        "colab_type": "code",
        "colab": {}
      },
      "source": [
        "VIDEO = \"mengxiang1.mp4\""
      ],
      "execution_count": 158,
      "outputs": []
    },
    {
      "cell_type": "markdown",
      "metadata": {
        "id": "D_VYSmn8-cS-",
        "colab_type": "text"
      },
      "source": [
        "2. Define Paths, constants, and video variables:"
      ]
    },
    {
      "cell_type": "code",
      "metadata": {
        "id": "XOgul-Kt-cgR",
        "colab_type": "code",
        "colab": {}
      },
      "source": [
        "# define paths\n",
        "prototxt = \"./model/colorization_deploy_v2.prototxt\"\n",
        "model = \"./model/colorization_release_v2.caffemodel\"\n",
        "points = \"./model/pts_in_hull.npy\"\n",
        "video =  \"./input_videos/\"+VIDEO\n",
        "width = 500\n",
        "\n",
        "vs = cv2.VideoCapture(video)\n"
      ],
      "execution_count": 159,
      "outputs": []
    },
    {
      "cell_type": "code",
      "metadata": {
        "id": "kjnW0J19Efel",
        "colab_type": "code",
        "colab": {}
      },
      "source": [
        "# load our serialized black and white colorizer model and cluster\n",
        "# center points from disk\n",
        "\n",
        "net = cv2.dnn.readNetFromCaffe(prototxt,model)\n",
        "pts = np.load(points)"
      ],
      "execution_count": 160,
      "outputs": []
    },
    {
      "cell_type": "code",
      "metadata": {
        "id": "7rqTc60pEiaB",
        "colab_type": "code",
        "colab": {}
      },
      "source": [
        "\n",
        "# add the cluster centers as 1x1 convolutions to the model\n",
        "class8 = net.getLayerId(\"class8_ab\")\n",
        "conv8 = net.getLayerId(\"conv8_313_rh\")\n",
        "pts = pts.transpose().reshape(2, 313, 1, 1)\n",
        "net.getLayer(class8).blobs = [pts.astype(\"float32\")]\n",
        "net.getLayer(conv8).blobs = [np.full([1, 313], 2.606, dtype=\"float32\")]"
      ],
      "execution_count": 161,
      "outputs": []
    },
    {
      "cell_type": "code",
      "metadata": {
        "id": "dTrGeH_hElJk",
        "colab_type": "code",
        "colab": {}
      },
      "source": [
        "from google.colab.patches import cv2_imshow\n",
        "# cv2_imshow(img)\n",
        "\n",
        "# loop over frames from the video stream\n",
        "count = 0\n",
        "success = True\n",
        "while success:\n",
        "\t# grab the next frame and handle if we are reading from either\n",
        "\t# VideoCapture or VideoStream\n",
        "\tsuccess, frame = vs.read()\n",
        "\n",
        "\t# if we are viewing a video and we did not grab a frame then we\n",
        "\t# have reached the end of the video\n",
        "\tif frame is None:\n",
        "\t\tbreak\n",
        "\n",
        "\t# resize the input frame, scale the pixel intensities to the\n",
        "\t# range [0, 1], and then convert the frame from the BGR to Lab\n",
        "\t# color space\n",
        "\tframe = imutils.resize(frame, 500)\n",
        "\tframe = cv2.cvtColor(frame, cv2.COLOR_BGR2GRAY)\n",
        "\tframe = cv2.cvtColor(frame, cv2.COLOR_GRAY2RGB)\n",
        "\tscaled = frame.astype(\"float32\") / 255.0\n",
        "\tlab = cv2.cvtColor(scaled, cv2.COLOR_RGB2LAB)\n",
        "\n",
        "\t# resize the Lab frame to 224x224 (the dimensions the colorization\n",
        "\t# network accepts), split channels, extract the 'L' channel, and\n",
        "\t# then perform mean centering\n",
        "\tresized = cv2.resize(lab, (224, 224))\n",
        "\tL = cv2.split(resized)[0]\n",
        "\tL -= 50\n",
        "\n",
        "\t# pass the L channel through the network which will *predict* the\n",
        "\t# 'a' and 'b' channel values\n",
        "\tnet.setInput(cv2.dnn.blobFromImage(L))\n",
        "\tab = net.forward()[0, :, :, :].transpose((1, 2, 0))\n",
        "\n",
        "\t# resize the predicted 'ab' volume to the same dimensions as our\n",
        "\t# input frame, then grab the 'L' channel from the *original* input\n",
        "\t# frame (not the resized one) and concatenate the original 'L'\n",
        "\t# channel with the predicted 'ab' channels\n",
        "\tab = cv2.resize(ab, (frame.shape[1], frame.shape[0]))\n",
        "\tL = cv2.split(lab)[0]\n",
        "\tcolorized = np.concatenate((L[:, :, np.newaxis], ab), axis=2)\n",
        "\n",
        "\t# convert the output frame from the Lab color space to RGB, clip\n",
        "\t# any values that fall outside the range [0, 1], and then convert\n",
        "\t# to an 8-bit unsigned integer ([0, 255] range)\n",
        "\tcolorized = cv2.cvtColor(colorized, cv2.COLOR_LAB2BGR)\n",
        "\tcolorized = np.clip(colorized, 0, 1)\n",
        "\tcolorized = (255 * colorized).astype(\"uint8\")\n",
        "\n",
        "\t# show the original and final colorized frames\n",
        "  # cv2_imshow(img)\n",
        "\tcv2_imshow(frame)\n",
        "\tcv2_imshow(colorized)\n",
        "    \n",
        "\tcv2.imwrite(\"./colorized_video_frames/frame%d.jpg\" % count, colorized)\n",
        "\tcount += 1\n",
        "\tkey = cv2.waitKey(1) & 0xFF\n",
        "\n",
        "\t# if the `q` key was pressed, break from the loop\n",
        "\tif key == ord(\"q\"):\n",
        "\t\tbreak\n",
        "\n",
        "vs.release()\n",
        "\n",
        "# close any open windows\n",
        "cv2.destroyAllWindows()"
      ],
      "execution_count": null,
      "outputs": []
    },
    {
      "cell_type": "code",
      "metadata": {
        "id": "Ie_xZjdPErlD",
        "colab_type": "code",
        "colab": {}
      },
      "source": [
        "def convert_frames_to_video(pathIn, pathOut, fps):\n",
        "    frame_array = []\n",
        "    files = [f for f in os.listdir(pathIn) if isfile(join(pathIn, f))]\n",
        " \n",
        "    #for sorting the file names properly\n",
        "    files.sort(key = lambda x: int(x[5:-4]))\n",
        " \n",
        "    for i in range(len(files)):\n",
        "        filename=pathIn + files[i]\n",
        "        #reading each files\n",
        "        img = cv2.imread(filename)\n",
        "        height, width, layers = img.shape\n",
        "        size = (width,height)\n",
        "        print(filename)\n",
        "        #inserting the frames into an image array\n",
        "        frame_array.append(img)\n",
        " \n",
        "    out = cv2.VideoWriter(pathOut,cv2.VideoWriter_fourcc(*'MJPG'), fps, size)\n",
        " \n",
        "    for i in range(len(frame_array)):\n",
        "        # writing to a image array\n",
        "        out.write(frame_array[i])\n",
        "    out.release()"
      ],
      "execution_count": 163,
      "outputs": []
    },
    {
      "cell_type": "code",
      "metadata": {
        "id": "loeD0QsaH-KX",
        "colab_type": "code",
        "colab": {
          "base_uri": "https://localhost:8080/",
          "height": 1000
        },
        "outputId": "aa572505-1368-47cd-e6a6-aded49f29be3"
      },
      "source": [
        "pathIn= './colorized_video_frames/'\n",
        "pathOut = './colorized_videos/video.avi'\n",
        "fps = 30.0\n",
        "convert_frames_to_video(pathIn, pathOut, fps)"
      ],
      "execution_count": 164,
      "outputs": [
        {
          "output_type": "stream",
          "text": [
            "./colorized_video_frames/frame0.jpg\n",
            "./colorized_video_frames/frame1.jpg\n",
            "./colorized_video_frames/frame2.jpg\n",
            "./colorized_video_frames/frame3.jpg\n",
            "./colorized_video_frames/frame4.jpg\n",
            "./colorized_video_frames/frame5.jpg\n",
            "./colorized_video_frames/frame6.jpg\n",
            "./colorized_video_frames/frame7.jpg\n",
            "./colorized_video_frames/frame8.jpg\n",
            "./colorized_video_frames/frame9.jpg\n",
            "./colorized_video_frames/frame10.jpg\n",
            "./colorized_video_frames/frame11.jpg\n",
            "./colorized_video_frames/frame12.jpg\n",
            "./colorized_video_frames/frame13.jpg\n",
            "./colorized_video_frames/frame14.jpg\n",
            "./colorized_video_frames/frame15.jpg\n",
            "./colorized_video_frames/frame16.jpg\n",
            "./colorized_video_frames/frame17.jpg\n",
            "./colorized_video_frames/frame18.jpg\n",
            "./colorized_video_frames/frame19.jpg\n",
            "./colorized_video_frames/frame20.jpg\n",
            "./colorized_video_frames/frame21.jpg\n",
            "./colorized_video_frames/frame22.jpg\n",
            "./colorized_video_frames/frame23.jpg\n",
            "./colorized_video_frames/frame24.jpg\n",
            "./colorized_video_frames/frame25.jpg\n",
            "./colorized_video_frames/frame26.jpg\n",
            "./colorized_video_frames/frame27.jpg\n",
            "./colorized_video_frames/frame28.jpg\n",
            "./colorized_video_frames/frame29.jpg\n",
            "./colorized_video_frames/frame30.jpg\n",
            "./colorized_video_frames/frame31.jpg\n",
            "./colorized_video_frames/frame32.jpg\n",
            "./colorized_video_frames/frame33.jpg\n",
            "./colorized_video_frames/frame34.jpg\n",
            "./colorized_video_frames/frame35.jpg\n",
            "./colorized_video_frames/frame36.jpg\n",
            "./colorized_video_frames/frame37.jpg\n",
            "./colorized_video_frames/frame38.jpg\n",
            "./colorized_video_frames/frame39.jpg\n",
            "./colorized_video_frames/frame40.jpg\n",
            "./colorized_video_frames/frame41.jpg\n",
            "./colorized_video_frames/frame42.jpg\n",
            "./colorized_video_frames/frame43.jpg\n",
            "./colorized_video_frames/frame44.jpg\n",
            "./colorized_video_frames/frame45.jpg\n",
            "./colorized_video_frames/frame46.jpg\n",
            "./colorized_video_frames/frame47.jpg\n",
            "./colorized_video_frames/frame48.jpg\n",
            "./colorized_video_frames/frame49.jpg\n",
            "./colorized_video_frames/frame50.jpg\n",
            "./colorized_video_frames/frame51.jpg\n",
            "./colorized_video_frames/frame52.jpg\n",
            "./colorized_video_frames/frame53.jpg\n",
            "./colorized_video_frames/frame54.jpg\n",
            "./colorized_video_frames/frame55.jpg\n",
            "./colorized_video_frames/frame56.jpg\n",
            "./colorized_video_frames/frame57.jpg\n",
            "./colorized_video_frames/frame58.jpg\n",
            "./colorized_video_frames/frame59.jpg\n",
            "./colorized_video_frames/frame60.jpg\n",
            "./colorized_video_frames/frame61.jpg\n",
            "./colorized_video_frames/frame62.jpg\n",
            "./colorized_video_frames/frame63.jpg\n",
            "./colorized_video_frames/frame64.jpg\n",
            "./colorized_video_frames/frame65.jpg\n",
            "./colorized_video_frames/frame66.jpg\n",
            "./colorized_video_frames/frame67.jpg\n",
            "./colorized_video_frames/frame68.jpg\n",
            "./colorized_video_frames/frame69.jpg\n",
            "./colorized_video_frames/frame70.jpg\n",
            "./colorized_video_frames/frame71.jpg\n",
            "./colorized_video_frames/frame72.jpg\n",
            "./colorized_video_frames/frame73.jpg\n",
            "./colorized_video_frames/frame74.jpg\n",
            "./colorized_video_frames/frame75.jpg\n",
            "./colorized_video_frames/frame76.jpg\n",
            "./colorized_video_frames/frame77.jpg\n",
            "./colorized_video_frames/frame78.jpg\n",
            "./colorized_video_frames/frame79.jpg\n",
            "./colorized_video_frames/frame80.jpg\n",
            "./colorized_video_frames/frame81.jpg\n",
            "./colorized_video_frames/frame82.jpg\n",
            "./colorized_video_frames/frame83.jpg\n",
            "./colorized_video_frames/frame84.jpg\n",
            "./colorized_video_frames/frame85.jpg\n",
            "./colorized_video_frames/frame86.jpg\n",
            "./colorized_video_frames/frame87.jpg\n",
            "./colorized_video_frames/frame88.jpg\n",
            "./colorized_video_frames/frame89.jpg\n",
            "./colorized_video_frames/frame90.jpg\n",
            "./colorized_video_frames/frame91.jpg\n",
            "./colorized_video_frames/frame92.jpg\n",
            "./colorized_video_frames/frame93.jpg\n",
            "./colorized_video_frames/frame94.jpg\n",
            "./colorized_video_frames/frame95.jpg\n",
            "./colorized_video_frames/frame96.jpg\n",
            "./colorized_video_frames/frame97.jpg\n",
            "./colorized_video_frames/frame98.jpg\n",
            "./colorized_video_frames/frame99.jpg\n",
            "./colorized_video_frames/frame100.jpg\n",
            "./colorized_video_frames/frame101.jpg\n",
            "./colorized_video_frames/frame102.jpg\n",
            "./colorized_video_frames/frame103.jpg\n",
            "./colorized_video_frames/frame104.jpg\n",
            "./colorized_video_frames/frame105.jpg\n",
            "./colorized_video_frames/frame106.jpg\n",
            "./colorized_video_frames/frame107.jpg\n",
            "./colorized_video_frames/frame108.jpg\n",
            "./colorized_video_frames/frame109.jpg\n",
            "./colorized_video_frames/frame110.jpg\n",
            "./colorized_video_frames/frame111.jpg\n",
            "./colorized_video_frames/frame112.jpg\n",
            "./colorized_video_frames/frame113.jpg\n",
            "./colorized_video_frames/frame114.jpg\n",
            "./colorized_video_frames/frame115.jpg\n",
            "./colorized_video_frames/frame116.jpg\n",
            "./colorized_video_frames/frame117.jpg\n",
            "./colorized_video_frames/frame118.jpg\n",
            "./colorized_video_frames/frame119.jpg\n",
            "./colorized_video_frames/frame120.jpg\n",
            "./colorized_video_frames/frame121.jpg\n",
            "./colorized_video_frames/frame122.jpg\n",
            "./colorized_video_frames/frame123.jpg\n",
            "./colorized_video_frames/frame124.jpg\n",
            "./colorized_video_frames/frame125.jpg\n",
            "./colorized_video_frames/frame126.jpg\n",
            "./colorized_video_frames/frame127.jpg\n",
            "./colorized_video_frames/frame128.jpg\n",
            "./colorized_video_frames/frame129.jpg\n",
            "./colorized_video_frames/frame130.jpg\n",
            "./colorized_video_frames/frame131.jpg\n",
            "./colorized_video_frames/frame132.jpg\n",
            "./colorized_video_frames/frame133.jpg\n",
            "./colorized_video_frames/frame134.jpg\n",
            "./colorized_video_frames/frame135.jpg\n",
            "./colorized_video_frames/frame136.jpg\n",
            "./colorized_video_frames/frame137.jpg\n",
            "./colorized_video_frames/frame138.jpg\n",
            "./colorized_video_frames/frame139.jpg\n",
            "./colorized_video_frames/frame140.jpg\n",
            "./colorized_video_frames/frame141.jpg\n",
            "./colorized_video_frames/frame142.jpg\n",
            "./colorized_video_frames/frame143.jpg\n",
            "./colorized_video_frames/frame144.jpg\n",
            "./colorized_video_frames/frame145.jpg\n",
            "./colorized_video_frames/frame146.jpg\n",
            "./colorized_video_frames/frame147.jpg\n",
            "./colorized_video_frames/frame148.jpg\n",
            "./colorized_video_frames/frame149.jpg\n",
            "./colorized_video_frames/frame150.jpg\n",
            "./colorized_video_frames/frame151.jpg\n",
            "./colorized_video_frames/frame152.jpg\n",
            "./colorized_video_frames/frame153.jpg\n",
            "./colorized_video_frames/frame154.jpg\n",
            "./colorized_video_frames/frame155.jpg\n",
            "./colorized_video_frames/frame156.jpg\n",
            "./colorized_video_frames/frame157.jpg\n",
            "./colorized_video_frames/frame158.jpg\n",
            "./colorized_video_frames/frame159.jpg\n",
            "./colorized_video_frames/frame160.jpg\n",
            "./colorized_video_frames/frame161.jpg\n",
            "./colorized_video_frames/frame162.jpg\n",
            "./colorized_video_frames/frame163.jpg\n",
            "./colorized_video_frames/frame164.jpg\n",
            "./colorized_video_frames/frame165.jpg\n",
            "./colorized_video_frames/frame166.jpg\n",
            "./colorized_video_frames/frame167.jpg\n",
            "./colorized_video_frames/frame168.jpg\n",
            "./colorized_video_frames/frame169.jpg\n",
            "./colorized_video_frames/frame170.jpg\n",
            "./colorized_video_frames/frame171.jpg\n",
            "./colorized_video_frames/frame172.jpg\n",
            "./colorized_video_frames/frame173.jpg\n",
            "./colorized_video_frames/frame174.jpg\n",
            "./colorized_video_frames/frame175.jpg\n",
            "./colorized_video_frames/frame176.jpg\n",
            "./colorized_video_frames/frame177.jpg\n",
            "./colorized_video_frames/frame178.jpg\n",
            "./colorized_video_frames/frame179.jpg\n",
            "./colorized_video_frames/frame180.jpg\n",
            "./colorized_video_frames/frame181.jpg\n",
            "./colorized_video_frames/frame182.jpg\n",
            "./colorized_video_frames/frame183.jpg\n",
            "./colorized_video_frames/frame184.jpg\n",
            "./colorized_video_frames/frame185.jpg\n",
            "./colorized_video_frames/frame186.jpg\n",
            "./colorized_video_frames/frame187.jpg\n",
            "./colorized_video_frames/frame188.jpg\n",
            "./colorized_video_frames/frame189.jpg\n",
            "./colorized_video_frames/frame190.jpg\n",
            "./colorized_video_frames/frame191.jpg\n",
            "./colorized_video_frames/frame192.jpg\n",
            "./colorized_video_frames/frame193.jpg\n",
            "./colorized_video_frames/frame194.jpg\n",
            "./colorized_video_frames/frame195.jpg\n",
            "./colorized_video_frames/frame196.jpg\n",
            "./colorized_video_frames/frame197.jpg\n",
            "./colorized_video_frames/frame198.jpg\n",
            "./colorized_video_frames/frame199.jpg\n",
            "./colorized_video_frames/frame200.jpg\n",
            "./colorized_video_frames/frame201.jpg\n",
            "./colorized_video_frames/frame202.jpg\n",
            "./colorized_video_frames/frame203.jpg\n",
            "./colorized_video_frames/frame204.jpg\n",
            "./colorized_video_frames/frame205.jpg\n",
            "./colorized_video_frames/frame206.jpg\n",
            "./colorized_video_frames/frame207.jpg\n",
            "./colorized_video_frames/frame208.jpg\n",
            "./colorized_video_frames/frame209.jpg\n",
            "./colorized_video_frames/frame210.jpg\n",
            "./colorized_video_frames/frame211.jpg\n",
            "./colorized_video_frames/frame212.jpg\n",
            "./colorized_video_frames/frame213.jpg\n",
            "./colorized_video_frames/frame214.jpg\n",
            "./colorized_video_frames/frame215.jpg\n",
            "./colorized_video_frames/frame216.jpg\n",
            "./colorized_video_frames/frame217.jpg\n",
            "./colorized_video_frames/frame218.jpg\n",
            "./colorized_video_frames/frame219.jpg\n",
            "./colorized_video_frames/frame220.jpg\n",
            "./colorized_video_frames/frame221.jpg\n",
            "./colorized_video_frames/frame222.jpg\n",
            "./colorized_video_frames/frame223.jpg\n",
            "./colorized_video_frames/frame224.jpg\n",
            "./colorized_video_frames/frame225.jpg\n",
            "./colorized_video_frames/frame226.jpg\n",
            "./colorized_video_frames/frame227.jpg\n",
            "./colorized_video_frames/frame228.jpg\n",
            "./colorized_video_frames/frame229.jpg\n",
            "./colorized_video_frames/frame230.jpg\n",
            "./colorized_video_frames/frame231.jpg\n",
            "./colorized_video_frames/frame232.jpg\n",
            "./colorized_video_frames/frame233.jpg\n",
            "./colorized_video_frames/frame234.jpg\n",
            "./colorized_video_frames/frame235.jpg\n",
            "./colorized_video_frames/frame236.jpg\n",
            "./colorized_video_frames/frame237.jpg\n",
            "./colorized_video_frames/frame238.jpg\n",
            "./colorized_video_frames/frame239.jpg\n",
            "./colorized_video_frames/frame240.jpg\n",
            "./colorized_video_frames/frame241.jpg\n",
            "./colorized_video_frames/frame242.jpg\n",
            "./colorized_video_frames/frame243.jpg\n",
            "./colorized_video_frames/frame244.jpg\n",
            "./colorized_video_frames/frame245.jpg\n",
            "./colorized_video_frames/frame246.jpg\n",
            "./colorized_video_frames/frame247.jpg\n",
            "./colorized_video_frames/frame248.jpg\n",
            "./colorized_video_frames/frame249.jpg\n",
            "./colorized_video_frames/frame250.jpg\n",
            "./colorized_video_frames/frame251.jpg\n",
            "./colorized_video_frames/frame252.jpg\n",
            "./colorized_video_frames/frame253.jpg\n",
            "./colorized_video_frames/frame254.jpg\n",
            "./colorized_video_frames/frame255.jpg\n",
            "./colorized_video_frames/frame256.jpg\n",
            "./colorized_video_frames/frame257.jpg\n"
          ],
          "name": "stdout"
        }
      ]
    }
  ]
}